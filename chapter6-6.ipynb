{
 "cells": [
  {
   "cell_type": "code",
   "execution_count": 42,
   "metadata": {},
   "outputs": [],
   "source": [
    "import numpy as np\n",
    "import pandas as pd\n",
    "import matplotlib.pyplot as plt\n",
    "from mpl_toolkits.mplot3d import Axes3D\n",
    "import warnings\n",
    "warnings.filterwarnings(action = 'ignore')\n",
    "%matplotlib inline\n",
    "plt.rcParams['font.sans-serif']=['SimHei']  #解决中文显示乱码问题\n",
    "plt.rcParams['axes.unicode_minus']=False\n",
    "import sklearn.linear_model as LM\n",
    "from sklearn.metrics import classification_report\n",
    "from sklearn.model_selection import cross_val_score,train_test_split\n",
    "from sklearn.datasets import make_regression\n",
    "from sklearn import tree\n",
    "from sklearn.preprocessing import LabelEncoder"
   ]
  },
  {
   "cell_type": "code",
   "execution_count": 104,
   "metadata": {},
   "outputs": [
    {
     "data": {
      "text/html": [
       "<div>\n",
       "<style scoped>\n",
       "    .dataframe tbody tr th:only-of-type {\n",
       "        vertical-align: middle;\n",
       "    }\n",
       "\n",
       "    .dataframe tbody tr th {\n",
       "        vertical-align: top;\n",
       "    }\n",
       "\n",
       "    .dataframe thead th {\n",
       "        text-align: right;\n",
       "    }\n",
       "</style>\n",
       "<table border=\"1\" class=\"dataframe\">\n",
       "  <thead>\n",
       "    <tr style=\"text-align: right;\">\n",
       "      <th></th>\n",
       "      <th>Age</th>\n",
       "      <th>Sex</th>\n",
       "      <th>BP</th>\n",
       "      <th>Cholesterol</th>\n",
       "      <th>Na</th>\n",
       "      <th>K</th>\n",
       "      <th>Drug</th>\n",
       "      <th>SexC</th>\n",
       "      <th>BPC</th>\n",
       "      <th>CholesterolC</th>\n",
       "      <th>Na/K</th>\n",
       "    </tr>\n",
       "  </thead>\n",
       "  <tbody>\n",
       "    <tr>\n",
       "      <td>0</td>\n",
       "      <td>23</td>\n",
       "      <td>F</td>\n",
       "      <td>HIGH</td>\n",
       "      <td>HIGH</td>\n",
       "      <td>0.792535</td>\n",
       "      <td>0.031258</td>\n",
       "      <td>drugY</td>\n",
       "      <td>0</td>\n",
       "      <td>0</td>\n",
       "      <td>0</td>\n",
       "      <td>25.354629</td>\n",
       "    </tr>\n",
       "    <tr>\n",
       "      <td>1</td>\n",
       "      <td>47</td>\n",
       "      <td>M</td>\n",
       "      <td>LOW</td>\n",
       "      <td>HIGH</td>\n",
       "      <td>0.739309</td>\n",
       "      <td>0.056468</td>\n",
       "      <td>drugC</td>\n",
       "      <td>1</td>\n",
       "      <td>1</td>\n",
       "      <td>0</td>\n",
       "      <td>13.092530</td>\n",
       "    </tr>\n",
       "    <tr>\n",
       "      <td>2</td>\n",
       "      <td>47</td>\n",
       "      <td>M</td>\n",
       "      <td>LOW</td>\n",
       "      <td>HIGH</td>\n",
       "      <td>0.697269</td>\n",
       "      <td>0.068944</td>\n",
       "      <td>drugC</td>\n",
       "      <td>1</td>\n",
       "      <td>1</td>\n",
       "      <td>0</td>\n",
       "      <td>10.113556</td>\n",
       "    </tr>\n",
       "    <tr>\n",
       "      <td>3</td>\n",
       "      <td>28</td>\n",
       "      <td>F</td>\n",
       "      <td>NORMAL</td>\n",
       "      <td>HIGH</td>\n",
       "      <td>0.563682</td>\n",
       "      <td>0.072289</td>\n",
       "      <td>drugX</td>\n",
       "      <td>0</td>\n",
       "      <td>2</td>\n",
       "      <td>0</td>\n",
       "      <td>7.797618</td>\n",
       "    </tr>\n",
       "    <tr>\n",
       "      <td>4</td>\n",
       "      <td>61</td>\n",
       "      <td>F</td>\n",
       "      <td>LOW</td>\n",
       "      <td>HIGH</td>\n",
       "      <td>0.559294</td>\n",
       "      <td>0.030998</td>\n",
       "      <td>drugY</td>\n",
       "      <td>0</td>\n",
       "      <td>1</td>\n",
       "      <td>0</td>\n",
       "      <td>18.042906</td>\n",
       "    </tr>\n",
       "  </tbody>\n",
       "</table>\n",
       "</div>"
      ],
      "text/plain": [
       "   Age Sex      BP Cholesterol        Na         K   Drug  SexC  BPC  \\\n",
       "0   23   F    HIGH        HIGH  0.792535  0.031258  drugY     0    0   \n",
       "1   47   M     LOW        HIGH  0.739309  0.056468  drugC     1    1   \n",
       "2   47   M     LOW        HIGH  0.697269  0.068944  drugC     1    1   \n",
       "3   28   F  NORMAL        HIGH  0.563682  0.072289  drugX     0    2   \n",
       "4   61   F     LOW        HIGH  0.559294  0.030998  drugY     0    1   \n",
       "\n",
       "   CholesterolC       Na/K  \n",
       "0             0  25.354629  \n",
       "1             0  13.092530  \n",
       "2             0  10.113556  \n",
       "3             0   7.797618  \n",
       "4             0  18.042906  "
      ]
     },
     "execution_count": 104,
     "metadata": {},
     "output_type": "execute_result"
    }
   ],
   "source": [
    "data=pd.read_csv('药物研究.txt')\n",
    "le = LabelEncoder()\n",
    "le.fit(data[\"Sex\"])\n",
    "data[\"SexC\"]=le.transform(data[\"Sex\"])\n",
    "data[\"BPC\"]=le.fit(data[\"BP\"]).transform(data[\"BP\"])\n",
    "data[\"CholesterolC\"]=le.fit(data[\"Cholesterol\"]).transform(data[\"Cholesterol\"])\n",
    "data[\"Na/K\"]=data[\"Na\"]/data[\"K\"]\n",
    "data.head()"
   ]
  },
  {
   "cell_type": "code",
   "execution_count": 105,
   "metadata": {},
   "outputs": [
    {
     "data": {
      "image/png": "[encoded data removed]",
      "text/plain": [
       "<Figure size 864x288 with 2 Axes>"
      ]
     },
     "metadata": {
      "needs_background": "light"
     },
     "output_type": "display_data"
    }
   ],
   "source": [
    "X=data[['Age','SexC','BPC','CholesterolC','Na/K']]\n",
    "Y=data['Drug']\n",
    "X_train, X_test, Y_train, Y_test = train_test_split(X,Y,train_size=0.70, random_state=123)\n",
    "trainErr=[]\n",
    "testErr=[]\n",
    "K=np.arange(2,10)\n",
    "for k in K:\n",
    "    modelDTC = tree.DecisionTreeClassifier(max_depth=k,random_state=123)\n",
    "    modelDTC.fit(X_train,Y_train)\n",
    "    trainErr.append(1-modelDTC.score(X_train,Y_train))\n",
    "    testErr.append(1-modelDTC.score(X_test,Y_test))\n",
    "fig,axes=plt.subplots(nrows=1,ncols=2,figsize=(12,4))\n",
    "axes[0].grid(True, linestyle='-.')\n",
    "axes[0].plot(np.arange(2,10),trainErr,label=\"训练误差\",marker='o',linestyle='-')\n",
    "axes[0].plot(np.arange(2,10),testErr,label=\"测试误差\",marker='o',linestyle='-.')\n",
    "axes[0].set_xlabel(\"树深度\")\n",
    "axes[0].set_ylabel(\"误差\")\n",
    "axes[0].set_title('树深度和误差')\n",
    "axes[0].legend()\n",
    "\n",
    "bestK=K[testErr.index(np.min(testErr))]\n",
    "modelDTC = tree.DecisionTreeClassifier(max_depth=bestK,random_state=123)\n",
    "modelDTC.fit(X_train,Y_train)\n",
    "axes[1].bar(np.arange(5),modelDTC.feature_importances_)\n",
    "axes[1].set_title('输入变量的重要性')\n",
    "axes[1].set_xlabel('输入变量')\n",
    "axes[1].set_xticks(np.arange(5))\n",
    "axes[1].set_xticklabels(['年龄','性别','血压','胆固醇','Na/K'])\n",
    "plt.show()\n"
   ]
  },
  {
   "cell_type": "code",
   "execution_count": 103,
   "metadata": {},
   "outputs": [
    {
     "name": "stdout",
     "output_type": "stream",
     "text": [
      "模型的评价：\n",
      "               precision    recall  f1-score   support\n",
      "\n",
      "       drugA       1.00      0.96      0.98        23\n",
      "       drugB       0.94      1.00      0.97        16\n",
      "       drugC       1.00      1.00      1.00        16\n",
      "       drugX       1.00      1.00      1.00        54\n",
      "       drugY       1.00      1.00      1.00        91\n",
      "\n",
      "    accuracy                           0.99       200\n",
      "   macro avg       0.99      0.99      0.99       200\n",
      "weighted avg       1.00      0.99      1.00       200\n",
      "\n",
      "|--- feature_4 <= 14.83\n",
      "|   |--- feature_2 <= 0.50\n",
      "|   |   |--- feature_0 <= 49.50\n",
      "|   |   |   |--- class: drugA\n",
      "|   |   |--- feature_0 >  49.50\n",
      "|   |   |   |--- class: drugB\n",
      "|   |--- feature_2 >  0.50\n",
      "|   |   |--- feature_2 <= 1.50\n",
      "|   |   |   |--- feature_3 <= 0.50\n",
      "|   |   |   |   |--- class: drugC\n",
      "|   |   |   |--- feature_3 >  0.50\n",
      "|   |   |   |   |--- class: drugX\n",
      "|   |   |--- feature_2 >  1.50\n",
      "|   |   |   |--- class: drugX\n",
      "|--- feature_4 >  14.83\n",
      "|   |--- class: drugY\n",
      "\n"
     ]
    }
   ],
   "source": [
    "print(\"模型的评价：\\n\",classification_report(Y,modelDTC.predict(X)))\n",
    "print(tree.export_text(modelDTC))\n"
   ]
  },
  {
   "cell_type": "code",
   "execution_count": 107,
   "metadata": {},
   "outputs": [],
   "source": [
    "?tree.DecisionTreeClassifier"
   ]
  },
  {
   "cell_type": "code",
   "execution_count": null,
   "metadata": {},
   "outputs": [],
   "source": []
  }
 ],
 "metadata": {
  "kernelspec": {
   "display_name": "Python 3",
   "language": "python",
   "name": "python3"
  },
  "language_info": {
   "codemirror_mode": {
    "name": "ipython",
    "version": 3
   },
   "file_extension": ".py",
   "mimetype": "text/x-python",
   "name": "python",
   "nbconvert_exporter": "python",
   "pygments_lexer": "ipython3",
   "version": "3.7.4"
  }
 },
 "nbformat": 4,
 "nbformat_minor": 2
}
